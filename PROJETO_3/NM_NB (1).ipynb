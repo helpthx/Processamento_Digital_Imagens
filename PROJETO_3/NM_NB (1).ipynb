{
  "nbformat": 4,
  "nbformat_minor": 0,
  "metadata": {
    "colab": {
      "name": "NM_NB.ipynb",
      "version": "0.3.2",
      "provenance": []
    },
    "kernelspec": {
      "name": "python3",
      "display_name": "Python 3"
    }
  },
  "cells": [
    {
      "cell_type": "code",
      "metadata": {
        "id": "dLVoykhCEdDH",
        "colab_type": "code",
        "colab": {}
      },
      "source": [
        "# Array based union find data structure\n",
        "\n",
        "# P: The array, which encodes the set membership of all the elements\n",
        "\n",
        "class UFarray:\n",
        "    def __init__(self):\n",
        "        # Array which holds label -> set equivalences\n",
        "        self.P = []\n",
        "\n",
        "        # Name of the next label, when one is created\n",
        "        self.label = 0\n",
        "\n",
        "    def makeLabel(self):\n",
        "        r = self.label\n",
        "        self.label += 1\n",
        "        self.P.append(r)\n",
        "        return r\n",
        "    \n",
        "    # Makes all nodes \"in the path of node i\" point to root\n",
        "    def setRoot(self, i, root):\n",
        "        while self.P[i] < i:\n",
        "            j = self.P[i]\n",
        "            self.P[i] = root\n",
        "            i = j\n",
        "        self.P[i] = root\n",
        "\n",
        "    # Finds the root node of the tree containing node i\n",
        "    def findRoot(self, i):\n",
        "        while self.P[i] < i:\n",
        "            i = self.P[i]\n",
        "        return i\n",
        "    \n",
        "    # Finds the root of the tree containing node i\n",
        "    # Simultaneously compresses the tree\n",
        "    def find(self, i):\n",
        "        root = self.findRoot(i)\n",
        "        self.setRoot(i, root)\n",
        "        return root\n",
        "    \n",
        "    # Joins the two trees containing nodes i and j\n",
        "    # Modified to be less agressive about compressing paths\n",
        "    # because performance was suffering some from over-compression\n",
        "    def union(self, i, j):\n",
        "        if i != j:\n",
        "            root = self.findRoot(i)\n",
        "            rootj = self.findRoot(j)\n",
        "            if root > rootj: root = rootj\n",
        "            self.setRoot(j, root)\n",
        "            self.setRoot(i, root)\n",
        "    \n",
        "    def flatten(self):\n",
        "        for i in range(1, len(self.P)):\n",
        "            self.P[i] = self.P[self.P[i]]\n",
        "    \n",
        "    def flattenL(self):\n",
        "        k = 1\n",
        "        for i in range(1, len(self.P)):\n",
        "            if self.P[i] < i:\n",
        "                self.P[i] = self.P[self.P[i]]\n",
        "            else:\n",
        "                self.P[i] = k\n",
        "                k += 1"
      ],
      "execution_count": 0,
      "outputs": []
    },
    {
      "cell_type": "code",
      "metadata": {
        "id": "YtdVMo2uHibH",
        "colab_type": "code",
        "colab": {}
      },
      "source": [
        "from PIL import Image, ImageDraw\n",
        "import sys\n",
        "import math, random\n",
        "from itertools import product\n",
        "\n",
        "# Array based union find data structure\n",
        "\n",
        "# P: The array, which encodes the set membership of all the elements\n",
        "\n",
        "class UFarray:\n",
        "    def __init__(self):\n",
        "        # Array which holds label -> set equivalences\n",
        "        self.P = []\n",
        "\n",
        "        # Name of the next label, when one is created\n",
        "        self.label = 0\n",
        "\n",
        "    def makeLabel(self):\n",
        "        r = self.label\n",
        "        self.label += 1\n",
        "        self.P.append(r)\n",
        "        return r\n",
        "    \n",
        "    # Makes all nodes \"in the path of node i\" point to root\n",
        "    def setRoot(self, i, root):\n",
        "        while self.P[i] < i:\n",
        "            j = self.P[i]\n",
        "            self.P[i] = root\n",
        "            i = j\n",
        "        self.P[i] = root\n",
        "\n",
        "    # Finds the root node of the tree containing node i\n",
        "    def findRoot(self, i):\n",
        "        while self.P[i] < i:\n",
        "            i = self.P[i]\n",
        "        return i\n",
        "    \n",
        "    # Finds the root of the tree containing node i\n",
        "    # Simultaneously compresses the tree\n",
        "    def find(self, i):\n",
        "        root = self.findRoot(i)\n",
        "        self.setRoot(i, root)\n",
        "        return root\n",
        "    \n",
        "    # Joins the two trees containing nodes i and j\n",
        "    # Modified to be less agressive about compressing paths\n",
        "    # because performance was suffering some from over-compression\n",
        "    def union(self, i, j):\n",
        "        if i != j:\n",
        "            root = self.findRoot(i)\n",
        "            rootj = self.findRoot(j)\n",
        "            if root > rootj: root = rootj\n",
        "            self.setRoot(j, root)\n",
        "            self.setRoot(i, root)\n",
        "    \n",
        "    def flatten(self):\n",
        "        for i in range(1, len(self.P)):\n",
        "            self.P[i] = self.P[self.P[i]]\n",
        "    \n",
        "    def flattenL(self):\n",
        "        k = 1\n",
        "        for i in range(1, len(self.P)):\n",
        "            if self.P[i] < i:\n",
        "                self.P[i] = self.P[self.P[i]]\n",
        "            else:\n",
        "                self.P[i] = k\n",
        "                k += 1\n",
        "                \n",
        "def run(img):\n",
        "    data = img.load()\n",
        "    width, height = img.size\n",
        " \n",
        "    # Union find data structure\n",
        "    uf = UFarray()\n",
        " \n",
        "    #\n",
        "    # First pass\n",
        "    #\n",
        " \n",
        "    # Dictionary of point:label pairs\n",
        "    labels = {}\n",
        " \n",
        "    for y, x in product(range(height), range(width)):\n",
        " \n",
        "        #\n",
        "        # Pixel names were chosen as shown:\n",
        "        #\n",
        "        #   -------------\n",
        "        #   | a | b | c |\n",
        "        #   -------------\n",
        "        #   | d | e |   |\n",
        "        #   -------------\n",
        "        #   |   |   |   |\n",
        "        #   -------------\n",
        "        #\n",
        "        # The current pixel is e\n",
        "        # a, b, c, and d are its neighbors of interest\n",
        "        #\n",
        "        # 255 is white, 0 is black\n",
        "        # White pixels part of the background, so they are ignored\n",
        "        # If a pixel lies outside the bounds of the image, it default to white\n",
        "        #\n",
        " \n",
        "        # If the current pixel is white, it's obviously not a component...\n",
        "        if data[x, y] == 255:\n",
        "            pass\n",
        " \n",
        "        # If pixel b is in the image and black:\n",
        "        #    a, d, and c are its neighbors, so they are all part of the same component\n",
        "        #    Therefore, there is no reason to check their labels\n",
        "        #    so simply assign b's label to e\n",
        "        elif y > 0 and data[x, y-1] == 0:\n",
        "            labels[x, y] = labels[(x, y-1)]\n",
        " \n",
        "        # If pixel c is in the image and black:\n",
        "        #    b is its neighbor, but a and d are not\n",
        "        #    Therefore, we must check a and d's labels\n",
        "        elif x+1 < width and y > 0 and data[x+1, y-1] == 0:\n",
        " \n",
        "            c = labels[(x+1, y-1)]\n",
        "            labels[x, y] = c\n",
        " \n",
        "            # If pixel a is in the image and black:\n",
        "            #    Then a and c are connected through e\n",
        "            #    Therefore, we must union their sets\n",
        "            if x > 0 and data[x-1, y-1] == 0:\n",
        "                a = labels[(x-1, y-1)]\n",
        "                uf.union(c, a)\n",
        " \n",
        "            # If pixel d is in the image and black:\n",
        "            #    Then d and c are connected through e\n",
        "            #    Therefore we must union their sets\n",
        "            elif x > 0 and data[x-1, y] == 0:\n",
        "                d = labels[(x-1, y)]\n",
        "                uf.union(c, d)\n",
        " \n",
        "        # If pixel a is in the image and black:\n",
        "        #    We already know b and c are white\n",
        "        #    d is a's neighbor, so they already have the same label\n",
        "        #    So simply assign a's label to e\n",
        "        elif x > 0 and y > 0 and data[x-1, y-1] == 0:\n",
        "            labels[x, y] = labels[(x-1, y-1)]\n",
        " \n",
        "        # If pixel d is in the image and black\n",
        "        #    We already know a, b, and c are white\n",
        "        #    so simpy assign d's label to e\n",
        "        elif x > 0 and data[x-1, y] == 0:\n",
        "            labels[x, y] = labels[(x-1, y)]\n",
        " \n",
        "        # All the neighboring pixels are white,\n",
        "        # Therefore the current pixel is a new component\n",
        "        else: \n",
        "            labels[x, y] = uf.makeLabel()\n",
        " \n",
        "    #\n",
        "    # Second pass\n",
        "    #\n",
        " \n",
        "    uf.flatten()\n",
        " \n",
        "    colors = {}\n",
        "\n",
        "    # Image to display the components in a nice, colorful way\n",
        "    output_img = Image.new(\"RGB\", (width, height))\n",
        "    outdata = output_img.load()\n",
        "\n",
        "    for (x, y) in labels:\n",
        " \n",
        "        # Name of the component the current point belongs to\n",
        "        component = uf.find(labels[(x, y)])\n",
        "\n",
        "        # Update the labels with correct information\n",
        "        labels[(x, y)] = component\n",
        " \n",
        "        # Associate a random color with this component \n",
        "        if component not in colors: \n",
        "            colors[component] = (random.randint(0,255), random.randint(0,255),random.randint(0,255))\n",
        "\n",
        "        # Colorize the image\n",
        "        outdata[x, y] = colors[component]\n",
        "\n",
        "    return (labels, output_img)"
      ],
      "execution_count": 0,
      "outputs": []
    },
    {
      "cell_type": "code",
      "metadata": {
        "id": "j1rqkaTJH_hF",
        "colab_type": "code",
        "colab": {}
      },
      "source": [
        "# Open the image\n",
        "img = Image.open('/content/fig4.jpg')\n",
        "img.show()\n",
        "\n",
        "# Threshold the image, this implementation is designed to process b+w\n",
        "# images only\n",
        "img = img.point(lambda p: p > 190 and 255)\n",
        "img = img.convert('1')\n",
        "\n",
        "# labels is a dictionary of the connected component data in the form:\n",
        "#     (x_coordinate, y_coordinate) : component_id\n",
        "#\n",
        "# if you plan on processing the component data, this is probably what you\n",
        "# will want to use\n",
        "#\n",
        "# output_image is just a frivolous way to visualize the components.\n",
        "(labels, output_img) = run(img)\n",
        "\n",
        "output_img.show()\n",
        "\n"
      ],
      "execution_count": 0,
      "outputs": []
    },
    {
      "cell_type": "code",
      "metadata": {
        "id": "5527flNbHvmf",
        "colab_type": "code",
        "colab": {
          "base_uri": "https://localhost:8080/",
          "height": 34
        },
        "outputId": "b79a8fdf-9561-4724-ccb9-1dd2bf47fae2"
      },
      "source": [
        "type(output_img)"
      ],
      "execution_count": 122,
      "outputs": [
        {
          "output_type": "execute_result",
          "data": {
            "text/plain": [
              "PIL.Image.Image"
            ]
          },
          "metadata": {
            "tags": []
          },
          "execution_count": 122
        }
      ]
    },
    {
      "cell_type": "code",
      "metadata": {
        "id": "hev4AD1WYLN_",
        "colab_type": "code",
        "colab": {
          "base_uri": "https://localhost:8080/",
          "height": 34
        },
        "outputId": "56ed5426-da32-4b9a-f571-706de0bc40ac"
      },
      "source": [
        "import numpy as np\n",
        "pix = np.array(output_img)\n",
        "type(pix)"
      ],
      "execution_count": 123,
      "outputs": [
        {
          "output_type": "execute_result",
          "data": {
            "text/plain": [
              "numpy.ndarray"
            ]
          },
          "metadata": {
            "tags": []
          },
          "execution_count": 123
        }
      ]
    },
    {
      "cell_type": "code",
      "metadata": {
        "id": "ewX90pzPYXlu",
        "colab_type": "code",
        "colab": {
          "base_uri": "https://localhost:8080/",
          "height": 34
        },
        "outputId": "c2bf53b9-e5bb-4fe9-fe6f-f8ee0ba949c9"
      },
      "source": [
        "pix.shape"
      ],
      "execution_count": 124,
      "outputs": [
        {
          "output_type": "execute_result",
          "data": {
            "text/plain": [
              "(50, 50, 3)"
            ]
          },
          "metadata": {
            "tags": []
          },
          "execution_count": 124
        }
      ]
    },
    {
      "cell_type": "code",
      "metadata": {
        "id": "EnzTDVPBYwni",
        "colab_type": "code",
        "colab": {
          "base_uri": "https://localhost:8080/",
          "height": 51
        },
        "outputId": "08d09264-6e0b-420e-c17a-1bde10dfe895"
      },
      "source": [
        "uniqueValues = np.unique(pix)\n",
        "uniqueValues"
      ],
      "execution_count": 125,
      "outputs": [
        {
          "output_type": "execute_result",
          "data": {
            "text/plain": [
              "array([  0,  15,  32,  34,  36,  40,  51,  62,  65,  78, 119, 152, 166,\n",
              "       194, 196, 197, 244, 251], dtype=uint8)"
            ]
          },
          "metadata": {
            "tags": []
          },
          "execution_count": 125
        }
      ]
    },
    {
      "cell_type": "code",
      "metadata": {
        "id": "_Xi7ZiDnZBQW",
        "colab_type": "code",
        "colab": {
          "base_uri": "https://localhost:8080/",
          "height": 286
        },
        "outputId": "5a0fefe7-05d9-4adf-92a5-e63cf8ae47a5"
      },
      "source": [
        "gray = cv2.cvtColor(pix, cv2.COLOR_BGR2GRAY)\n",
        "plt.imshow(gray)"
      ],
      "execution_count": 126,
      "outputs": [
        {
          "output_type": "execute_result",
          "data": {
            "text/plain": [
              "<matplotlib.image.AxesImage at 0x7f302b93fe48>"
            ]
          },
          "metadata": {
            "tags": []
          },
          "execution_count": 126
        },
        {
          "output_type": "display_data",
          "data": {
            "image/png": "[encoded data removed]",
            "text/plain": [
              "<Figure size 432x288 with 1 Axes>"
            ]
          },
          "metadata": {
            "tags": []
          }
        }
      ]
    },
    {
      "cell_type": "code",
      "metadata": {
        "id": "dNlnJzq5ZRL4",
        "colab_type": "code",
        "colab": {
          "base_uri": "https://localhost:8080/",
          "height": 34
        },
        "outputId": "ca4d9c8f-227d-4193-f4d7-eb4aa8d478c8"
      },
      "source": [
        "gray.shape"
      ],
      "execution_count": 127,
      "outputs": [
        {
          "output_type": "execute_result",
          "data": {
            "text/plain": [
              "(50, 50)"
            ]
          },
          "metadata": {
            "tags": []
          },
          "execution_count": 127
        }
      ]
    },
    {
      "cell_type": "code",
      "metadata": {
        "id": "zD7tLAJDZTe4",
        "colab_type": "code",
        "colab": {
          "base_uri": "https://localhost:8080/",
          "height": 34
        },
        "outputId": "a3728931-f32d-44d7-80b5-8defab2a7858"
      },
      "source": [
        "uniqueValues = np.unique(gray)\n",
        "uniqueValues"
      ],
      "execution_count": 128,
      "outputs": [
        {
          "output_type": "execute_result",
          "data": {
            "text/plain": [
              "array([  0,  63,  71,  94, 106, 127, 178], dtype=uint8)"
            ]
          },
          "metadata": {
            "tags": []
          },
          "execution_count": 128
        }
      ]
    },
    {
      "cell_type": "code",
      "metadata": {
        "id": "hGhhyMvsZTAo",
        "colab_type": "code",
        "colab": {
          "base_uri": "https://localhost:8080/",
          "height": 34
        },
        "outputId": "920c3670-2686-429f-8d69-06df21613f31"
      },
      "source": [
        "len(uniqueValues) - 1"
      ],
      "execution_count": 129,
      "outputs": [
        {
          "output_type": "execute_result",
          "data": {
            "text/plain": [
              "6"
            ]
          },
          "metadata": {
            "tags": []
          },
          "execution_count": 129
        }
      ]
    },
    {
      "cell_type": "code",
      "metadata": {
        "id": "VffIhfdfaGGU",
        "colab_type": "code",
        "colab": {}
      },
      "source": [
        "# Open the image\n",
        "img = Image.open('/content/fig4.jpg')\n",
        "img.show()\n",
        "# img = np.array(img)\n",
        "# img = cv2.bitwise_not(img)\n",
        "# img = Image.fromarray(img)\n",
        "\n",
        "# Threshold the image, this implementation is designed to process b+w\n",
        "# images only\n",
        "img = img.point(lambda p: p < 190 and 255)\n",
        "img = img.convert('1')\n",
        "\n",
        "# labels is a dictionary of the connected component data in the form:\n",
        "#     (x_coordinate, y_coordinate) : component_id\n",
        "#\n",
        "# if you plan on processing the component data, this is probably what you\n",
        "# will want to use\n",
        "#\n",
        "# output_image is just a frivolous way to visualize the components.\n",
        "(labels, output_img_holes) = run(img)\n",
        "\n",
        "output_img_holes.show()"
      ],
      "execution_count": 0,
      "outputs": []
    },
    {
      "cell_type": "code",
      "metadata": {
        "id": "25ZA7jlbbXpT",
        "colab_type": "code",
        "colab": {
          "base_uri": "https://localhost:8080/",
          "height": 67
        },
        "outputId": "86428013-c385-4b11-9d94-99b1fee5f1aa"
      },
      "source": [
        "output_img_holes"
      ],
      "execution_count": 144,
      "outputs": [
        {
          "output_type": "execute_result",
          "data": {
            "image/png": "[encoded data removed]",
            "text/plain": [
              "<PIL.Image.Image image mode=RGB size=50x50 at 0x7F302B873748>"
            ]
          },
          "metadata": {
            "tags": []
          },
          "execution_count": 144
        }
      ]
    },
    {
      "cell_type": "code",
      "metadata": {
        "id": "78P8YDGvchrU",
        "colab_type": "code",
        "colab": {
          "base_uri": "https://localhost:8080/",
          "height": 286
        },
        "outputId": "8bd7cbf2-f429-43e0-cbea-86cef3a6c510"
      },
      "source": [
        "pix_holes = np.array(output_img_holes)\n",
        "gray_holes = cv2.cvtColor(pix_holes, cv2.COLOR_BGR2GRAY)\n",
        "plt.imshow(gray_holes)"
      ],
      "execution_count": 145,
      "outputs": [
        {
          "output_type": "execute_result",
          "data": {
            "text/plain": [
              "<matplotlib.image.AxesImage at 0x7f302b9e0710>"
            ]
          },
          "metadata": {
            "tags": []
          },
          "execution_count": 145
        },
        {
          "output_type": "display_data",
          "data": {
            "image/png": "[encoded data removed]",
            "text/plain": [
              "<Figure size 432x288 with 1 Axes>"
            ]
          },
          "metadata": {
            "tags": []
          }
        }
      ]
    },
    {
      "cell_type": "code",
      "metadata": {
        "id": "U79QrtmndDNs",
        "colab_type": "code",
        "colab": {
          "base_uri": "https://localhost:8080/",
          "height": 34
        },
        "outputId": "12ea8b26-f6e7-442f-bc59-4e431819ebc0"
      },
      "source": [
        "uniqueValues_holes = np.unique(gray_holes)\n",
        "len(uniqueValues_holes) - 2\n"
      ],
      "execution_count": 146,
      "outputs": [
        {
          "output_type": "execute_result",
          "data": {
            "text/plain": [
              "15"
            ]
          },
          "metadata": {
            "tags": []
          },
          "execution_count": 146
        }
      ]
    },
    {
      "cell_type": "code",
      "metadata": {
        "id": "TJfyBlkwdFtL",
        "colab_type": "code",
        "colab": {}
      },
      "source": [
        ""
      ],
      "execution_count": 0,
      "outputs": []
    }
  ]
}